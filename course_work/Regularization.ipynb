{
 "cells": [
  {
   "cell_type": "code",
   "execution_count": 34,
   "metadata": {},
   "outputs": [],
   "source": [
    "# TODO: Add import statements\n",
    "import numpy as np\n",
    "import pandas as pd\n",
    "from sklearn.linear_model import Lasso, LinearRegression\n",
    "from sklearn.preprocessing import StandardScaler"
   ]
  },
  {
   "cell_type": "code",
   "execution_count": 37,
   "metadata": {},
   "outputs": [
    {
     "name": "stdout",
     "output_type": "stream",
     "text": [
      "           0        1         2        3        4        5\n",
      "0    1.25664  2.04978  -6.23640  4.71926 -4.26931  0.20590\n",
      "1   -3.89012 -0.37511   6.14979  4.94585 -3.57844  0.00640\n",
      "2    5.09784  0.98120  -0.29939  5.85805  0.28297 -0.20626\n",
      "3    0.39034 -3.06861  -5.63488  6.43941  0.39256 -0.07084\n",
      "4    5.84727 -0.15922  11.41246  7.52165  1.69886  0.29022\n",
      "..       ...      ...       ...      ...      ...      ...\n",
      "95  -4.58240 -1.27825   7.55098  8.83930 -3.80318  0.04386\n",
      "96 -10.00364  2.66002  -4.26776 -3.73792 -0.72349 -0.24617\n",
      "97  -4.32624 -2.30314  -8.16044  4.46366 -3.33569 -0.01655\n",
      "98  -1.90167 -0.15858 -10.43466  4.89762 -0.64606 -0.14519\n",
      "99   2.43213  2.41613   2.49949 -8.03891 -1.64164 -0.63444\n",
      "\n",
      "[100 rows x 6 columns]\n",
      "0     12.31798\n",
      "1     23.67628\n",
      "2     -1.53459\n",
      "3    -24.68670\n",
      "4     17.54122\n",
      "        ...   \n",
      "95    26.14768\n",
      "96     0.76214\n",
      "97   -10.05262\n",
      "98   -19.63970\n",
      "99    12.76193\n",
      "Name: 6, Length: 100, dtype: float64\n"
     ]
    }
   ],
   "source": [
    "# Assign the data to predictor and outcome variables\n",
    "# TODO: Load the data\n",
    "train_data = pd.read_csv('data-regularization.csv', header = None)\n",
    "# is this the same as: \n",
    "# X = train_data.iloc[:,:-1]\n",
    "# y = train_data.iloc[:,-1]\n",
    "X = train_data.iloc[:,:6]\n",
    "y = train_data.iloc[:,6]\n",
    "print(X)\n",
    "print(y)"
   ]
  },
  {
   "cell_type": "code",
   "execution_count": 48,
   "metadata": {},
   "outputs": [
    {
     "data": {
      "text/plain": [
       "array([ 0.        ,  2.35793224,  2.00441646, -0.05511954, -3.92808318,\n",
       "        0.        ])"
      ]
     },
     "execution_count": 48,
     "metadata": {},
     "output_type": "execute_result"
    }
   ],
   "source": [
    "# TODO: Create the linear regression model with lasso regularization.\n",
    "scaler = StandardScaler()\n",
    "scaler.fit(X)\n",
    "\n",
    "X_scaled = scaler.transform(X)\n",
    "\n",
    "lasso_reg = Lasso()\n",
    "linear_reg = LinearRegression()\n",
    "\n",
    "# TODO: Fit the model.\n",
    "lasso_reg.fit(X, y)\n",
    "linear_reg.fit(X,y)\n",
    "\n",
    "# TODO: Retrieve and print out the coefficients from the regression model. the columns with coef 0 are useless features\n",
    "#If we use a normal linear regression we would see the base coefficients before regularization\n",
    "reg_coef = lasso_reg.coef_\n",
    "reg_coef"
   ]
  },
  {
   "cell_type": "code",
   "execution_count": 49,
   "metadata": {},
   "outputs": [
    {
     "data": {
      "text/plain": [
       "array([-6.19918532e-03,  2.96325160e+00,  1.98199191e+00, -7.86249920e-02,\n",
       "       -3.95818772e+00,  9.30786141e+00])"
      ]
     },
     "execution_count": 49,
     "metadata": {},
     "output_type": "execute_result"
    }
   ],
   "source": [
    "linear_reg.coef_"
   ]
  },
  {
   "cell_type": "code",
   "execution_count": 52,
   "metadata": {},
   "outputs": [
    {
     "data": {
      "text/plain": [
       "array([  0.        ,   3.90753617,   9.02575748,  -0.        ,\n",
       "       -11.78303187,   0.45340137])"
      ]
     },
     "execution_count": 52,
     "metadata": {},
     "output_type": "execute_result"
    }
   ],
   "source": [
    "## impact now using feature scaling\n",
    "lasso_reg.fit(X_scaled, y)\n",
    "linear_reg.fit(X_scaled, y)\n",
    "reg_coef = lasso_reg.coef_\n",
    "reg_coef"
   ]
  },
  {
   "cell_type": "code",
   "execution_count": 51,
   "metadata": {},
   "outputs": [
    {
     "data": {
      "text/plain": [
       "array([ -0.03429525,   5.12341093,   9.8249303 ,  -0.63866951,\n",
       "       -12.53990789,   1.69699858])"
      ]
     },
     "execution_count": 51,
     "metadata": {},
     "output_type": "execute_result"
    }
   ],
   "source": [
    "linear_reg.coef_"
   ]
  }
 ],
 "metadata": {
  "kernelspec": {
   "display_name": "Python 3 (ipykernel)",
   "language": "python",
   "name": "python3"
  },
  "language_info": {
   "codemirror_mode": {
    "name": "ipython",
    "version": 3
   },
   "file_extension": ".py",
   "mimetype": "text/x-python",
   "name": "python",
   "nbconvert_exporter": "python",
   "pygments_lexer": "ipython3",
   "version": "3.9.18"
  }
 },
 "nbformat": 4,
 "nbformat_minor": 2
}
